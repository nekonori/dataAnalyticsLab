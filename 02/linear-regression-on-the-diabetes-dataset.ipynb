{
 "cells": [
  {
   "cell_type": "code",
   "execution_count": 1,
   "metadata": {
    "_cell_guid": "b1076dfc-b9ad-4769-8c92-a6c4dae69d19",
    "_uuid": "8f2839f25d086af736a60e9eeb907d3b93b6e0e5",
    "execution": {
     "iopub.execute_input": "2021-03-14T17:54:35.050109Z",
     "iopub.status.busy": "2021-03-14T17:54:35.049397Z",
     "iopub.status.idle": "2021-03-14T17:54:36.326883Z",
     "shell.execute_reply": "2021-03-14T17:54:36.327524Z"
    },
    "papermill": {
     "duration": 1.29885,
     "end_time": "2021-03-14T17:54:36.327904",
     "exception": false,
     "start_time": "2021-03-14T17:54:35.029054",
     "status": "completed"
    },
    "tags": []
   },
   "outputs": [],
   "source": [
    "# Import the libraries\n",
    "import pandas as pd\n",
    "import numpy as np\n",
    "import matplotlib.pyplot as plt\n",
    "from sklearn import datasets"
   ]
  },
  {
   "cell_type": "code",
   "execution_count": 2,
   "metadata": {
    "execution": {
     "iopub.execute_input": "2021-03-14T17:54:36.357844Z",
     "iopub.status.busy": "2021-03-14T17:54:36.357143Z",
     "iopub.status.idle": "2021-03-14T17:54:36.392707Z",
     "shell.execute_reply": "2021-03-14T17:54:36.393243Z"
    },
    "papermill": {
     "duration": 0.052155,
     "end_time": "2021-03-14T17:54:36.393423",
     "exception": false,
     "start_time": "2021-03-14T17:54:36.341268",
     "status": "completed"
    },
    "tags": []
   },
   "outputs": [
    {
     "data": {
      "text/plain": [
       "{'data': array([[ 0.03807591,  0.05068012,  0.06169621, ..., -0.00259226,\n",
       "          0.01990842, -0.01764613],\n",
       "        [-0.00188202, -0.04464164, -0.05147406, ..., -0.03949338,\n",
       "         -0.06832974, -0.09220405],\n",
       "        [ 0.08529891,  0.05068012,  0.04445121, ..., -0.00259226,\n",
       "          0.00286377, -0.02593034],\n",
       "        ...,\n",
       "        [ 0.04170844,  0.05068012, -0.01590626, ..., -0.01107952,\n",
       "         -0.04687948,  0.01549073],\n",
       "        [-0.04547248, -0.04464164,  0.03906215, ...,  0.02655962,\n",
       "          0.04452837, -0.02593034],\n",
       "        [-0.04547248, -0.04464164, -0.0730303 , ..., -0.03949338,\n",
       "         -0.00421986,  0.00306441]]),\n",
       " 'target': array([151.,  75., 141., 206., 135.,  97., 138.,  63., 110., 310., 101.,\n",
       "         69., 179., 185., 118., 171., 166., 144.,  97., 168.,  68.,  49.,\n",
       "         68., 245., 184., 202., 137.,  85., 131., 283., 129.,  59., 341.,\n",
       "         87.,  65., 102., 265., 276., 252.,  90., 100.,  55.,  61.,  92.,\n",
       "        259.,  53., 190., 142.,  75., 142., 155., 225.,  59., 104., 182.,\n",
       "        128.,  52.,  37., 170., 170.,  61., 144.,  52., 128.,  71., 163.,\n",
       "        150.,  97., 160., 178.,  48., 270., 202., 111.,  85.,  42., 170.,\n",
       "        200., 252., 113., 143.,  51.,  52., 210.,  65., 141.,  55., 134.,\n",
       "         42., 111.,  98., 164.,  48.,  96.,  90., 162., 150., 279.,  92.,\n",
       "         83., 128., 102., 302., 198.,  95.,  53., 134., 144., 232.,  81.,\n",
       "        104.,  59., 246., 297., 258., 229., 275., 281., 179., 200., 200.,\n",
       "        173., 180.,  84., 121., 161.,  99., 109., 115., 268., 274., 158.,\n",
       "        107.,  83., 103., 272.,  85., 280., 336., 281., 118., 317., 235.,\n",
       "         60., 174., 259., 178., 128.,  96., 126., 288.,  88., 292.,  71.,\n",
       "        197., 186.,  25.,  84.,  96., 195.,  53., 217., 172., 131., 214.,\n",
       "         59.,  70., 220., 268., 152.,  47.,  74., 295., 101., 151., 127.,\n",
       "        237., 225.,  81., 151., 107.,  64., 138., 185., 265., 101., 137.,\n",
       "        143., 141.,  79., 292., 178.,  91., 116.,  86., 122.,  72., 129.,\n",
       "        142.,  90., 158.,  39., 196., 222., 277.,  99., 196., 202., 155.,\n",
       "         77., 191.,  70.,  73.,  49.,  65., 263., 248., 296., 214., 185.,\n",
       "         78.,  93., 252., 150.,  77., 208.,  77., 108., 160.,  53., 220.,\n",
       "        154., 259.,  90., 246., 124.,  67.,  72., 257., 262., 275., 177.,\n",
       "         71.,  47., 187., 125.,  78.,  51., 258., 215., 303., 243.,  91.,\n",
       "        150., 310., 153., 346.,  63.,  89.,  50.,  39., 103., 308., 116.,\n",
       "        145.,  74.,  45., 115., 264.,  87., 202., 127., 182., 241.,  66.,\n",
       "         94., 283.,  64., 102., 200., 265.,  94., 230., 181., 156., 233.,\n",
       "         60., 219.,  80.,  68., 332., 248.,  84., 200.,  55.,  85.,  89.,\n",
       "         31., 129.,  83., 275.,  65., 198., 236., 253., 124.,  44., 172.,\n",
       "        114., 142., 109., 180., 144., 163., 147.,  97., 220., 190., 109.,\n",
       "        191., 122., 230., 242., 248., 249., 192., 131., 237.,  78., 135.,\n",
       "        244., 199., 270., 164.,  72.,  96., 306.,  91., 214.,  95., 216.,\n",
       "        263., 178., 113., 200., 139., 139.,  88., 148.,  88., 243.,  71.,\n",
       "         77., 109., 272.,  60.,  54., 221.,  90., 311., 281., 182., 321.,\n",
       "         58., 262., 206., 233., 242., 123., 167.,  63., 197.,  71., 168.,\n",
       "        140., 217., 121., 235., 245.,  40.,  52., 104., 132.,  88.,  69.,\n",
       "        219.,  72., 201., 110.,  51., 277.,  63., 118.,  69., 273., 258.,\n",
       "         43., 198., 242., 232., 175.,  93., 168., 275., 293., 281.,  72.,\n",
       "        140., 189., 181., 209., 136., 261., 113., 131., 174., 257.,  55.,\n",
       "         84.,  42., 146., 212., 233.,  91., 111., 152., 120.,  67., 310.,\n",
       "         94., 183.,  66., 173.,  72.,  49.,  64.,  48., 178., 104., 132.,\n",
       "        220.,  57.]),\n",
       " 'frame': None,\n",
       " 'DESCR': '.. _diabetes_dataset:\\n\\nDiabetes dataset\\n----------------\\n\\nTen baseline variables, age, sex, body mass index, average blood\\npressure, and six blood serum measurements were obtained for each of n =\\n442 diabetes patients, as well as the response of interest, a\\nquantitative measure of disease progression one year after baseline.\\n\\n**Data Set Characteristics:**\\n\\n  :Number of Instances: 442\\n\\n  :Number of Attributes: First 10 columns are numeric predictive values\\n\\n  :Target: Column 11 is a quantitative measure of disease progression one year after baseline\\n\\n  :Attribute Information:\\n      - age     age in years\\n      - sex\\n      - bmi     body mass index\\n      - bp      average blood pressure\\n      - s1      tc, T-Cells (a type of white blood cells)\\n      - s2      ldl, low-density lipoproteins\\n      - s3      hdl, high-density lipoproteins\\n      - s4      tch, thyroid stimulating hormone\\n      - s5      ltg, lamotrigine\\n      - s6      glu, blood sugar level\\n\\nNote: Each of these 10 feature variables have been mean centered and scaled by the standard deviation times `n_samples` (i.e. the sum of squares of each column totals 1).\\n\\nSource URL:\\nhttps://www4.stat.ncsu.edu/~boos/var.select/diabetes.html\\n\\nFor more information see:\\nBradley Efron, Trevor Hastie, Iain Johnstone and Robert Tibshirani (2004) \"Least Angle Regression,\" Annals of Statistics (with discussion), 407-499.\\n(https://web.stanford.edu/~hastie/Papers/LARS/LeastAngle_2002.pdf)',\n",
       " 'feature_names': ['age',\n",
       "  'sex',\n",
       "  'bmi',\n",
       "  'bp',\n",
       "  's1',\n",
       "  's2',\n",
       "  's3',\n",
       "  's4',\n",
       "  's5',\n",
       "  's6'],\n",
       " 'data_filename': '/opt/conda/lib/python3.7/site-packages/sklearn/datasets/data/diabetes_data.csv.gz',\n",
       " 'target_filename': '/opt/conda/lib/python3.7/site-packages/sklearn/datasets/data/diabetes_target.csv.gz'}"
      ]
     },
     "execution_count": 2,
     "metadata": {},
     "output_type": "execute_result"
    }
   ],
   "source": [
    "diabetes = datasets.load_diabetes()\n",
    "diabetes"
   ]
  },
  {
   "cell_type": "code",
   "execution_count": 3,
   "metadata": {
    "execution": {
     "iopub.execute_input": "2021-03-14T17:54:36.425226Z",
     "iopub.status.busy": "2021-03-14T17:54:36.424510Z",
     "iopub.status.idle": "2021-03-14T17:54:36.430562Z",
     "shell.execute_reply": "2021-03-14T17:54:36.431358Z"
    },
    "papermill": {
     "duration": 0.024395,
     "end_time": "2021-03-14T17:54:36.431615",
     "exception": false,
     "start_time": "2021-03-14T17:54:36.407220",
     "status": "completed"
    },
    "tags": []
   },
   "outputs": [
    {
     "name": "stdout",
     "output_type": "stream",
     "text": [
      ".. _diabetes_dataset:\n",
      "\n",
      "Diabetes dataset\n",
      "----------------\n",
      "\n",
      "Ten baseline variables, age, sex, body mass index, average blood\n",
      "pressure, and six blood serum measurements were obtained for each of n =\n",
      "442 diabetes patients, as well as the response of interest, a\n",
      "quantitative measure of disease progression one year after baseline.\n",
      "\n",
      "**Data Set Characteristics:**\n",
      "\n",
      "  :Number of Instances: 442\n",
      "\n",
      "  :Number of Attributes: First 10 columns are numeric predictive values\n",
      "\n",
      "  :Target: Column 11 is a quantitative measure of disease progression one year after baseline\n",
      "\n",
      "  :Attribute Information:\n",
      "      - age     age in years\n",
      "      - sex\n",
      "      - bmi     body mass index\n",
      "      - bp      average blood pressure\n",
      "      - s1      tc, T-Cells (a type of white blood cells)\n",
      "      - s2      ldl, low-density lipoproteins\n",
      "      - s3      hdl, high-density lipoproteins\n",
      "      - s4      tch, thyroid stimulating hormone\n",
      "      - s5      ltg, lamotrigine\n",
      "      - s6      glu, blood sugar level\n",
      "\n",
      "Note: Each of these 10 feature variables have been mean centered and scaled by the standard deviation times `n_samples` (i.e. the sum of squares of each column totals 1).\n",
      "\n",
      "Source URL:\n",
      "https://www4.stat.ncsu.edu/~boos/var.select/diabetes.html\n",
      "\n",
      "For more information see:\n",
      "Bradley Efron, Trevor Hastie, Iain Johnstone and Robert Tibshirani (2004) \"Least Angle Regression,\" Annals of Statistics (with discussion), 407-499.\n",
      "(https://web.stanford.edu/~hastie/Papers/LARS/LeastAngle_2002.pdf)\n"
     ]
    }
   ],
   "source": [
    "print(diabetes.DESCR)"
   ]
  },
  {
   "cell_type": "code",
   "execution_count": 4,
   "metadata": {
    "execution": {
     "iopub.execute_input": "2021-03-14T17:54:36.466154Z",
     "iopub.status.busy": "2021-03-14T17:54:36.465426Z",
     "iopub.status.idle": "2021-03-14T17:54:36.472663Z",
     "shell.execute_reply": "2021-03-14T17:54:36.473218Z"
    },
    "papermill": {
     "duration": 0.025866,
     "end_time": "2021-03-14T17:54:36.473400",
     "exception": false,
     "start_time": "2021-03-14T17:54:36.447534",
     "status": "completed"
    },
    "tags": []
   },
   "outputs": [
    {
     "data": {
      "text/plain": [
       "['age', 'sex', 'bmi', 'bp', 's1', 's2', 's3', 's4', 's5', 's6']"
      ]
     },
     "execution_count": 4,
     "metadata": {},
     "output_type": "execute_result"
    }
   ],
   "source": [
    "# columns\n",
    "diabetes.feature_names"
   ]
  },
  {
   "cell_type": "code",
   "execution_count": 5,
   "metadata": {
    "execution": {
     "iopub.execute_input": "2021-03-14T17:54:36.507107Z",
     "iopub.status.busy": "2021-03-14T17:54:36.506399Z",
     "iopub.status.idle": "2021-03-14T17:54:36.510254Z",
     "shell.execute_reply": "2021-03-14T17:54:36.510766Z"
    },
    "papermill": {
     "duration": 0.022811,
     "end_time": "2021-03-14T17:54:36.510960",
     "exception": false,
     "start_time": "2021-03-14T17:54:36.488149",
     "status": "completed"
    },
    "tags": []
   },
   "outputs": [],
   "source": [
    "# Now we will split the data into the independent and independent variable\n",
    "X = diabetes.data\n",
    "Y = diabetes.target"
   ]
  },
  {
   "cell_type": "code",
   "execution_count": 6,
   "metadata": {
    "execution": {
     "iopub.execute_input": "2021-03-14T17:54:36.545850Z",
     "iopub.status.busy": "2021-03-14T17:54:36.544526Z",
     "iopub.status.idle": "2021-03-14T17:54:36.551180Z",
     "shell.execute_reply": "2021-03-14T17:54:36.550598Z"
    },
    "papermill": {
     "duration": 0.025609,
     "end_time": "2021-03-14T17:54:36.551340",
     "exception": false,
     "start_time": "2021-03-14T17:54:36.525731",
     "status": "completed"
    },
    "tags": []
   },
   "outputs": [
    {
     "data": {
      "text/plain": [
       "((442, 10), (442,))"
      ]
     },
     "execution_count": 6,
     "metadata": {},
     "output_type": "execute_result"
    }
   ],
   "source": [
    "X.shape, Y.shape"
   ]
  },
  {
   "cell_type": "code",
   "execution_count": 7,
   "metadata": {
    "execution": {
     "iopub.execute_input": "2021-03-14T17:54:36.596842Z",
     "iopub.status.busy": "2021-03-14T17:54:36.595313Z",
     "iopub.status.idle": "2021-03-14T17:54:36.604205Z",
     "shell.execute_reply": "2021-03-14T17:54:36.603336Z"
    },
    "papermill": {
     "duration": 0.036855,
     "end_time": "2021-03-14T17:54:36.604361",
     "exception": false,
     "start_time": "2021-03-14T17:54:36.567506",
     "status": "completed"
    },
    "tags": []
   },
   "outputs": [
    {
     "data": {
      "text/plain": [
       "array([151.,  75., 141., 206., 135.,  97., 138.,  63., 110., 310., 101.,\n",
       "        69., 179., 185., 118., 171., 166., 144.,  97., 168.,  68.,  49.,\n",
       "        68., 245., 184., 202., 137.,  85., 131., 283., 129.,  59., 341.,\n",
       "        87.,  65., 102., 265., 276., 252.,  90., 100.,  55.,  61.,  92.,\n",
       "       259.,  53., 190., 142.,  75., 142., 155., 225.,  59., 104., 182.,\n",
       "       128.,  52.,  37., 170., 170.,  61., 144.,  52., 128.,  71., 163.,\n",
       "       150.,  97., 160., 178.,  48., 270., 202., 111.,  85.,  42., 170.,\n",
       "       200., 252., 113., 143.,  51.,  52., 210.,  65., 141.,  55., 134.,\n",
       "        42., 111.,  98., 164.,  48.,  96.,  90., 162., 150., 279.,  92.,\n",
       "        83., 128., 102., 302., 198.,  95.,  53., 134., 144., 232.,  81.,\n",
       "       104.,  59., 246., 297., 258., 229., 275., 281., 179., 200., 200.,\n",
       "       173., 180.,  84., 121., 161.,  99., 109., 115., 268., 274., 158.,\n",
       "       107.,  83., 103., 272.,  85., 280., 336., 281., 118., 317., 235.,\n",
       "        60., 174., 259., 178., 128.,  96., 126., 288.,  88., 292.,  71.,\n",
       "       197., 186.,  25.,  84.,  96., 195.,  53., 217., 172., 131., 214.,\n",
       "        59.,  70., 220., 268., 152.,  47.,  74., 295., 101., 151., 127.,\n",
       "       237., 225.,  81., 151., 107.,  64., 138., 185., 265., 101., 137.,\n",
       "       143., 141.,  79., 292., 178.,  91., 116.,  86., 122.,  72., 129.,\n",
       "       142.,  90., 158.,  39., 196., 222., 277.,  99., 196., 202., 155.,\n",
       "        77., 191.,  70.,  73.,  49.,  65., 263., 248., 296., 214., 185.,\n",
       "        78.,  93., 252., 150.,  77., 208.,  77., 108., 160.,  53., 220.,\n",
       "       154., 259.,  90., 246., 124.,  67.,  72., 257., 262., 275., 177.,\n",
       "        71.,  47., 187., 125.,  78.,  51., 258., 215., 303., 243.,  91.,\n",
       "       150., 310., 153., 346.,  63.,  89.,  50.,  39., 103., 308., 116.,\n",
       "       145.,  74.,  45., 115., 264.,  87., 202., 127., 182., 241.,  66.,\n",
       "        94., 283.,  64., 102., 200., 265.,  94., 230., 181., 156., 233.,\n",
       "        60., 219.,  80.,  68., 332., 248.,  84., 200.,  55.,  85.,  89.,\n",
       "        31., 129.,  83., 275.,  65., 198., 236., 253., 124.,  44., 172.,\n",
       "       114., 142., 109., 180., 144., 163., 147.,  97., 220., 190., 109.,\n",
       "       191., 122., 230., 242., 248., 249., 192., 131., 237.,  78., 135.,\n",
       "       244., 199., 270., 164.,  72.,  96., 306.,  91., 214.,  95., 216.,\n",
       "       263., 178., 113., 200., 139., 139.,  88., 148.,  88., 243.,  71.,\n",
       "        77., 109., 272.,  60.,  54., 221.,  90., 311., 281., 182., 321.,\n",
       "        58., 262., 206., 233., 242., 123., 167.,  63., 197.,  71., 168.,\n",
       "       140., 217., 121., 235., 245.,  40.,  52., 104., 132.,  88.,  69.,\n",
       "       219.,  72., 201., 110.,  51., 277.,  63., 118.,  69., 273., 258.,\n",
       "        43., 198., 242., 232., 175.,  93., 168., 275., 293., 281.,  72.,\n",
       "       140., 189., 181., 209., 136., 261., 113., 131., 174., 257.,  55.,\n",
       "        84.,  42., 146., 212., 233.,  91., 111., 152., 120.,  67., 310.,\n",
       "        94., 183.,  66., 173.,  72.,  49.,  64.,  48., 178., 104., 132.,\n",
       "       220.,  57.])"
      ]
     },
     "execution_count": 7,
     "metadata": {},
     "output_type": "execute_result"
    }
   ],
   "source": [
    "Y"
   ]
  },
  {
   "cell_type": "code",
   "execution_count": 8,
   "metadata": {
    "execution": {
     "iopub.execute_input": "2021-03-14T17:54:36.649727Z",
     "iopub.status.busy": "2021-03-14T17:54:36.648839Z",
     "iopub.status.idle": "2021-03-14T17:54:36.742129Z",
     "shell.execute_reply": "2021-03-14T17:54:36.741459Z"
    },
    "papermill": {
     "duration": 0.119862,
     "end_time": "2021-03-14T17:54:36.742290",
     "exception": false,
     "start_time": "2021-03-14T17:54:36.622428",
     "status": "completed"
    },
    "tags": []
   },
   "outputs": [],
   "source": [
    "# We will split the data into training and testing data\n",
    "from sklearn.model_selection import train_test_split"
   ]
  },
  {
   "cell_type": "code",
   "execution_count": 9,
   "metadata": {
    "execution": {
     "iopub.execute_input": "2021-03-14T17:54:36.787476Z",
     "iopub.status.busy": "2021-03-14T17:54:36.786642Z",
     "iopub.status.idle": "2021-03-14T17:54:36.789996Z",
     "shell.execute_reply": "2021-03-14T17:54:36.789301Z"
    },
    "papermill": {
     "duration": 0.028492,
     "end_time": "2021-03-14T17:54:36.790159",
     "exception": false,
     "start_time": "2021-03-14T17:54:36.761667",
     "status": "completed"
    },
    "tags": []
   },
   "outputs": [],
   "source": [
    "train_x, test_x, train_y, test_y = train_test_split(X,Y,test_size=0.3,random_state=99)"
   ]
  },
  {
   "cell_type": "code",
   "execution_count": 10,
   "metadata": {
    "execution": {
     "iopub.execute_input": "2021-03-14T17:54:36.829652Z",
     "iopub.status.busy": "2021-03-14T17:54:36.828432Z",
     "iopub.status.idle": "2021-03-14T17:54:36.833497Z",
     "shell.execute_reply": "2021-03-14T17:54:36.832852Z"
    },
    "papermill": {
     "duration": 0.027359,
     "end_time": "2021-03-14T17:54:36.833651",
     "exception": false,
     "start_time": "2021-03-14T17:54:36.806292",
     "status": "completed"
    },
    "tags": []
   },
   "outputs": [
    {
     "data": {
      "text/plain": [
       "((309, 10), (309,))"
      ]
     },
     "execution_count": 10,
     "metadata": {},
     "output_type": "execute_result"
    }
   ],
   "source": [
    "train_x.shape, train_y.shape"
   ]
  },
  {
   "cell_type": "markdown",
   "metadata": {
    "papermill": {
     "duration": 0.016794,
     "end_time": "2021-03-14T17:54:36.868166",
     "exception": false,
     "start_time": "2021-03-14T17:54:36.851372",
     "status": "completed"
    },
    "tags": []
   },
   "source": [
    "Now we will perform linear regression"
   ]
  },
  {
   "cell_type": "code",
   "execution_count": 11,
   "metadata": {
    "execution": {
     "iopub.execute_input": "2021-03-14T17:54:36.906927Z",
     "iopub.status.busy": "2021-03-14T17:54:36.906184Z",
     "iopub.status.idle": "2021-03-14T17:54:37.119392Z",
     "shell.execute_reply": "2021-03-14T17:54:37.117988Z"
    },
    "papermill": {
     "duration": 0.234909,
     "end_time": "2021-03-14T17:54:37.119558",
     "exception": false,
     "start_time": "2021-03-14T17:54:36.884649",
     "status": "completed"
    },
    "tags": []
   },
   "outputs": [],
   "source": [
    "# Linear Regression\n",
    "from sklearn.linear_model import LinearRegression"
   ]
  },
  {
   "cell_type": "code",
   "execution_count": 12,
   "metadata": {
    "execution": {
     "iopub.execute_input": "2021-03-14T17:54:37.160672Z",
     "iopub.status.busy": "2021-03-14T17:54:37.159602Z",
     "iopub.status.idle": "2021-03-14T17:54:37.162971Z",
     "shell.execute_reply": "2021-03-14T17:54:37.162413Z"
    },
    "papermill": {
     "duration": 0.026762,
     "end_time": "2021-03-14T17:54:37.163121",
     "exception": false,
     "start_time": "2021-03-14T17:54:37.136359",
     "status": "completed"
    },
    "tags": []
   },
   "outputs": [],
   "source": [
    "le = LinearRegression()"
   ]
  },
  {
   "cell_type": "code",
   "execution_count": 13,
   "metadata": {
    "execution": {
     "iopub.execute_input": "2021-03-14T17:54:37.220988Z",
     "iopub.status.busy": "2021-03-14T17:54:37.219372Z",
     "iopub.status.idle": "2021-03-14T17:54:37.227348Z",
     "shell.execute_reply": "2021-03-14T17:54:37.226672Z"
    },
    "papermill": {
     "duration": 0.047049,
     "end_time": "2021-03-14T17:54:37.227492",
     "exception": false,
     "start_time": "2021-03-14T17:54:37.180443",
     "status": "completed"
    },
    "tags": []
   },
   "outputs": [
    {
     "data": {
      "text/plain": [
       "LinearRegression()"
      ]
     },
     "execution_count": 13,
     "metadata": {},
     "output_type": "execute_result"
    }
   ],
   "source": [
    "le.fit(train_x,train_y)"
   ]
  },
  {
   "cell_type": "code",
   "execution_count": 14,
   "metadata": {
    "execution": {
     "iopub.execute_input": "2021-03-14T17:54:37.266856Z",
     "iopub.status.busy": "2021-03-14T17:54:37.266136Z",
     "iopub.status.idle": "2021-03-14T17:54:37.277117Z",
     "shell.execute_reply": "2021-03-14T17:54:37.276375Z"
    },
    "papermill": {
     "duration": 0.031526,
     "end_time": "2021-03-14T17:54:37.277264",
     "exception": false,
     "start_time": "2021-03-14T17:54:37.245738",
     "status": "completed"
    },
    "tags": []
   },
   "outputs": [
    {
     "data": {
      "text/plain": [
       "array([ 77.99793282, 170.44431566, 109.039494  , 223.84320605,\n",
       "        87.38145887, 211.46851413, 223.65995098,  52.81631391,\n",
       "       149.39219589, 294.99052864, 127.72911792, 182.9049973 ,\n",
       "       102.6373417 , 144.69404091, 171.51921663, 266.17716148,\n",
       "       201.88864732, 166.18475146, 103.67405763, 169.01824607,\n",
       "       187.13974387, 130.10116021, 151.54240239, 156.45632158,\n",
       "       121.85525279, 304.13863719, 126.54843582, 158.766251  ,\n",
       "       249.42250153, 154.22177899, 180.85286248, 180.0620116 ,\n",
       "       182.96338591, 199.99914067,  73.87305575, 146.19256445,\n",
       "       165.52824755, 160.9337753 , 247.99119911, 210.3722983 ,\n",
       "        85.70144066, 211.07459023, 188.10304059, 119.60313173,\n",
       "       151.80679986, 188.31455646, 185.6907796 , 168.92706031,\n",
       "       291.55359958, 248.59960366, 170.16833469, 208.55225625,\n",
       "        59.07864944, 195.30667704, 190.19691947, 149.9763055 ,\n",
       "       114.48049294, 244.83333467, 254.54879995, 138.88842999,\n",
       "       301.04796681,  57.72046739, 162.93923953, 187.60028132,\n",
       "       274.75854356, 158.20911031, 181.84642765, 151.29439219,\n",
       "       199.55614041, 197.63729668,  83.37306023, 127.99225503,\n",
       "       179.1349424 , 161.6938937 , 106.02518142, 213.44182075,\n",
       "        99.63641865, 116.8013284 , 176.24232349, 190.8739507 ,\n",
       "       167.39697172, 185.39093073, 120.19175391,  94.95347011,\n",
       "       158.22674574, 189.80529052, 166.40342208, 235.30697682,\n",
       "       230.32582979, 236.69260249, 176.02162048, 135.15424139,\n",
       "       152.81649029, 124.46263108, 213.57891352,  42.64169362,\n",
       "       200.72314452,  64.05536254, 160.31440415,  61.10200767,\n",
       "       161.21582358, 169.64260427, 198.39457142,  63.92180829,\n",
       "       129.65994211, 171.88737988, 175.28500998, 126.2878451 ,\n",
       "       163.35224556,  92.43575542, 156.3271989 , 174.65093824,\n",
       "       229.30185222, 128.2258077 , 124.33643337,  64.5211616 ,\n",
       "       217.55139246, 230.22292485, 190.07467811, 161.97206112,\n",
       "       123.80431505, 161.67526571, 132.52999763, 116.96784656,\n",
       "       266.68732093, 275.92380762,  86.84358882,  60.94681007,\n",
       "       202.35094343, 144.66084182,  82.40061025, 185.44512356,\n",
       "       101.56385099])"
      ]
     },
     "execution_count": 14,
     "metadata": {},
     "output_type": "execute_result"
    }
   ],
   "source": [
    "y_pred = le.predict(test_x)\n",
    "y_pred"
   ]
  },
  {
   "cell_type": "code",
   "execution_count": 15,
   "metadata": {
    "execution": {
     "iopub.execute_input": "2021-03-14T17:54:37.330717Z",
     "iopub.status.busy": "2021-03-14T17:54:37.330009Z",
     "iopub.status.idle": "2021-03-14T17:54:37.348569Z",
     "shell.execute_reply": "2021-03-14T17:54:37.349093Z"
    },
    "papermill": {
     "duration": 0.053937,
     "end_time": "2021-03-14T17:54:37.349292",
     "exception": false,
     "start_time": "2021-03-14T17:54:37.295355",
     "status": "completed"
    },
    "tags": []
   },
   "outputs": [
    {
     "data": {
      "text/html": [
       "<div>\n",
       "<style scoped>\n",
       "    .dataframe tbody tr th:only-of-type {\n",
       "        vertical-align: middle;\n",
       "    }\n",
       "\n",
       "    .dataframe tbody tr th {\n",
       "        vertical-align: top;\n",
       "    }\n",
       "\n",
       "    .dataframe thead th {\n",
       "        text-align: right;\n",
       "    }\n",
       "</style>\n",
       "<table border=\"1\" class=\"dataframe\">\n",
       "  <thead>\n",
       "    <tr style=\"text-align: right;\">\n",
       "      <th></th>\n",
       "      <th>Actual</th>\n",
       "      <th>Predict</th>\n",
       "    </tr>\n",
       "  </thead>\n",
       "  <tbody>\n",
       "    <tr>\n",
       "      <th>0</th>\n",
       "      <td>75.0</td>\n",
       "      <td>77.997933</td>\n",
       "    </tr>\n",
       "    <tr>\n",
       "      <th>1</th>\n",
       "      <td>128.0</td>\n",
       "      <td>170.444316</td>\n",
       "    </tr>\n",
       "    <tr>\n",
       "      <th>2</th>\n",
       "      <td>125.0</td>\n",
       "      <td>109.039494</td>\n",
       "    </tr>\n",
       "    <tr>\n",
       "      <th>3</th>\n",
       "      <td>332.0</td>\n",
       "      <td>223.843206</td>\n",
       "    </tr>\n",
       "    <tr>\n",
       "      <th>4</th>\n",
       "      <td>37.0</td>\n",
       "      <td>87.381459</td>\n",
       "    </tr>\n",
       "    <tr>\n",
       "      <th>...</th>\n",
       "      <td>...</td>\n",
       "      <td>...</td>\n",
       "    </tr>\n",
       "    <tr>\n",
       "      <th>128</th>\n",
       "      <td>48.0</td>\n",
       "      <td>202.350943</td>\n",
       "    </tr>\n",
       "    <tr>\n",
       "      <th>129</th>\n",
       "      <td>172.0</td>\n",
       "      <td>144.660842</td>\n",
       "    </tr>\n",
       "    <tr>\n",
       "      <th>130</th>\n",
       "      <td>51.0</td>\n",
       "      <td>82.400610</td>\n",
       "    </tr>\n",
       "    <tr>\n",
       "      <th>131</th>\n",
       "      <td>277.0</td>\n",
       "      <td>185.445124</td>\n",
       "    </tr>\n",
       "    <tr>\n",
       "      <th>132</th>\n",
       "      <td>94.0</td>\n",
       "      <td>101.563851</td>\n",
       "    </tr>\n",
       "  </tbody>\n",
       "</table>\n",
       "<p>133 rows × 2 columns</p>\n",
       "</div>"
      ],
      "text/plain": [
       "     Actual     Predict\n",
       "0      75.0   77.997933\n",
       "1     128.0  170.444316\n",
       "2     125.0  109.039494\n",
       "3     332.0  223.843206\n",
       "4      37.0   87.381459\n",
       "..      ...         ...\n",
       "128    48.0  202.350943\n",
       "129   172.0  144.660842\n",
       "130    51.0   82.400610\n",
       "131   277.0  185.445124\n",
       "132    94.0  101.563851\n",
       "\n",
       "[133 rows x 2 columns]"
      ]
     },
     "execution_count": 15,
     "metadata": {},
     "output_type": "execute_result"
    }
   ],
   "source": [
    "result = pd.DataFrame({'Actual': test_y, 'Predict' : y_pred})\n",
    "result"
   ]
  },
  {
   "cell_type": "code",
   "execution_count": 16,
   "metadata": {
    "execution": {
     "iopub.execute_input": "2021-03-14T17:54:37.390484Z",
     "iopub.status.busy": "2021-03-14T17:54:37.389665Z",
     "iopub.status.idle": "2021-03-14T17:54:37.397318Z",
     "shell.execute_reply": "2021-03-14T17:54:37.397935Z"
    },
    "papermill": {
     "duration": 0.030676,
     "end_time": "2021-03-14T17:54:37.398141",
     "exception": false,
     "start_time": "2021-03-14T17:54:37.367465",
     "status": "completed"
    },
    "tags": []
   },
   "outputs": [
    {
     "name": "stdout",
     "output_type": "stream",
     "text": [
      "coefficient [  40.66018999 -313.29560706  517.1785363   386.06685795 -604.64498104\n",
      "  275.32058758    3.91393457  172.38010275  661.95935148   62.25715134]\n",
      "intercept 155.59114167162846\n"
     ]
    }
   ],
   "source": [
    "# we will check the accuracy\n",
    "\n",
    "print('coefficient', le.coef_)\n",
    "print('intercept', le.intercept_)"
   ]
  },
  {
   "cell_type": "code",
   "execution_count": 17,
   "metadata": {
    "execution": {
     "iopub.execute_input": "2021-03-14T17:54:37.442123Z",
     "iopub.status.busy": "2021-03-14T17:54:37.441210Z",
     "iopub.status.idle": "2021-03-14T17:54:37.445691Z",
     "shell.execute_reply": "2021-03-14T17:54:37.445109Z"
    },
    "papermill": {
     "duration": 0.028676,
     "end_time": "2021-03-14T17:54:37.445841",
     "exception": false,
     "start_time": "2021-03-14T17:54:37.417165",
     "status": "completed"
    },
    "tags": []
   },
   "outputs": [],
   "source": [
    "from sklearn.metrics import mean_squared_error, r2_score"
   ]
  },
  {
   "cell_type": "code",
   "execution_count": 18,
   "metadata": {
    "execution": {
     "iopub.execute_input": "2021-03-14T17:54:37.490789Z",
     "iopub.status.busy": "2021-03-14T17:54:37.489901Z",
     "iopub.status.idle": "2021-03-14T17:54:37.495264Z",
     "shell.execute_reply": "2021-03-14T17:54:37.494246Z"
    },
    "papermill": {
     "duration": 0.02995,
     "end_time": "2021-03-14T17:54:37.495433",
     "exception": false,
     "start_time": "2021-03-14T17:54:37.465483",
     "status": "completed"
    },
    "tags": []
   },
   "outputs": [
    {
     "data": {
      "text/plain": [
       "3157.9566009965824"
      ]
     },
     "execution_count": 18,
     "metadata": {},
     "output_type": "execute_result"
    }
   ],
   "source": [
    "# mean_squared_error\n",
    "mean_squared_error(test_y,y_pred)"
   ]
  },
  {
   "cell_type": "code",
   "execution_count": 19,
   "metadata": {
    "execution": {
     "iopub.execute_input": "2021-03-14T17:54:37.541476Z",
     "iopub.status.busy": "2021-03-14T17:54:37.540480Z",
     "iopub.status.idle": "2021-03-14T17:54:37.544797Z",
     "shell.execute_reply": "2021-03-14T17:54:37.545323Z"
    },
    "papermill": {
     "duration": 0.030761,
     "end_time": "2021-03-14T17:54:37.545498",
     "exception": false,
     "start_time": "2021-03-14T17:54:37.514737",
     "status": "completed"
    },
    "tags": []
   },
   "outputs": [
    {
     "data": {
      "text/plain": [
       "0.4545737971700595"
      ]
     },
     "execution_count": 19,
     "metadata": {},
     "output_type": "execute_result"
    }
   ],
   "source": [
    "# r2 score\n",
    "r2_score(test_y,y_pred)"
   ]
  },
  {
   "cell_type": "code",
   "execution_count": null,
   "metadata": {
    "papermill": {
     "duration": 0.019327,
     "end_time": "2021-03-14T17:54:37.584643",
     "exception": false,
     "start_time": "2021-03-14T17:54:37.565316",
     "status": "completed"
    },
    "tags": []
   },
   "outputs": [],
   "source": []
  }
 ],
 "metadata": {
  "kernelspec": {
   "display_name": "Python 3",
   "language": "python",
   "name": "python3"
  },
  "language_info": {
   "codemirror_mode": {
    "name": "ipython",
    "version": 3
   },
   "file_extension": ".py",
   "mimetype": "text/x-python",
   "name": "python",
   "nbconvert_exporter": "python",
   "pygments_lexer": "ipython3",
   "version": "3.7.9"
  },
  "papermill": {
   "default_parameters": {},
   "duration": 9.867299,
   "end_time": "2021-03-14T17:54:38.315424",
   "environment_variables": {},
   "exception": null,
   "input_path": "__notebook__.ipynb",
   "output_path": "__notebook__.ipynb",
   "parameters": {},
   "start_time": "2021-03-14T17:54:28.448125",
   "version": "2.2.2"
  }
 },
 "nbformat": 4,
 "nbformat_minor": 4
}
