{
 "cells": [
  {
   "cell_type": "code",
   "execution_count": 18,
   "id": "ab44e6cb-cf47-44a8-9dbf-626fbc1eedc6",
   "metadata": {},
   "outputs": [],
   "source": [
    "import pandas as pd\n",
    "import numpy as np\n",
    "import matplotlib.pyplot as plt"
   ]
  },
  {
   "cell_type": "code",
   "execution_count": 4,
   "id": "72adeabe-a2ac-445d-a7b2-45890723ddf1",
   "metadata": {},
   "outputs": [
    {
     "data": {
      "text/html": [
       "<div>\n",
       "<style scoped>\n",
       "    .dataframe tbody tr th:only-of-type {\n",
       "        vertical-align: middle;\n",
       "    }\n",
       "\n",
       "    .dataframe tbody tr th {\n",
       "        vertical-align: top;\n",
       "    }\n",
       "\n",
       "    .dataframe thead th {\n",
       "        text-align: right;\n",
       "    }\n",
       "</style>\n",
       "<table border=\"1\" class=\"dataframe\">\n",
       "  <thead>\n",
       "    <tr style=\"text-align: right;\">\n",
       "      <th></th>\n",
       "      <th>alcohol</th>\n",
       "      <th>malicAcid</th>\n",
       "      <th>ash</th>\n",
       "      <th>alcalinityOfAsh</th>\n",
       "      <th>magnesium</th>\n",
       "      <th>totalPhenols</th>\n",
       "      <th>flavanoids</th>\n",
       "      <th>nonfalavanoidPhenols</th>\n",
       "      <th>proanthyocyanins</th>\n",
       "      <th>colorIntensity</th>\n",
       "      <th>hue</th>\n",
       "      <th>od315ofDilutedWines</th>\n",
       "      <th>proline</th>\n",
       "      <th>some</th>\n",
       "    </tr>\n",
       "  </thead>\n",
       "  <tbody>\n",
       "    <tr>\n",
       "      <th>0</th>\n",
       "      <td>1</td>\n",
       "      <td>14.23</td>\n",
       "      <td>1.71</td>\n",
       "      <td>2.43</td>\n",
       "      <td>15.6</td>\n",
       "      <td>127</td>\n",
       "      <td>2.80</td>\n",
       "      <td>3.06</td>\n",
       "      <td>0.28</td>\n",
       "      <td>2.29</td>\n",
       "      <td>5.64</td>\n",
       "      <td>1.04</td>\n",
       "      <td>3.92</td>\n",
       "      <td>1065</td>\n",
       "    </tr>\n",
       "    <tr>\n",
       "      <th>1</th>\n",
       "      <td>1</td>\n",
       "      <td>13.20</td>\n",
       "      <td>1.78</td>\n",
       "      <td>2.14</td>\n",
       "      <td>11.2</td>\n",
       "      <td>100</td>\n",
       "      <td>2.65</td>\n",
       "      <td>2.76</td>\n",
       "      <td>0.26</td>\n",
       "      <td>1.28</td>\n",
       "      <td>4.38</td>\n",
       "      <td>1.05</td>\n",
       "      <td>3.40</td>\n",
       "      <td>1050</td>\n",
       "    </tr>\n",
       "    <tr>\n",
       "      <th>2</th>\n",
       "      <td>1</td>\n",
       "      <td>13.16</td>\n",
       "      <td>2.36</td>\n",
       "      <td>2.67</td>\n",
       "      <td>18.6</td>\n",
       "      <td>101</td>\n",
       "      <td>2.80</td>\n",
       "      <td>3.24</td>\n",
       "      <td>0.30</td>\n",
       "      <td>2.81</td>\n",
       "      <td>5.68</td>\n",
       "      <td>1.03</td>\n",
       "      <td>3.17</td>\n",
       "      <td>1185</td>\n",
       "    </tr>\n",
       "    <tr>\n",
       "      <th>3</th>\n",
       "      <td>1</td>\n",
       "      <td>14.37</td>\n",
       "      <td>1.95</td>\n",
       "      <td>2.50</td>\n",
       "      <td>16.8</td>\n",
       "      <td>113</td>\n",
       "      <td>3.85</td>\n",
       "      <td>3.49</td>\n",
       "      <td>0.24</td>\n",
       "      <td>2.18</td>\n",
       "      <td>7.80</td>\n",
       "      <td>0.86</td>\n",
       "      <td>3.45</td>\n",
       "      <td>1480</td>\n",
       "    </tr>\n",
       "    <tr>\n",
       "      <th>4</th>\n",
       "      <td>1</td>\n",
       "      <td>13.24</td>\n",
       "      <td>2.59</td>\n",
       "      <td>2.87</td>\n",
       "      <td>21.0</td>\n",
       "      <td>118</td>\n",
       "      <td>2.80</td>\n",
       "      <td>2.69</td>\n",
       "      <td>0.39</td>\n",
       "      <td>1.82</td>\n",
       "      <td>4.32</td>\n",
       "      <td>1.04</td>\n",
       "      <td>2.93</td>\n",
       "      <td>735</td>\n",
       "    </tr>\n",
       "  </tbody>\n",
       "</table>\n",
       "</div>"
      ],
      "text/plain": [
       "   alcohol  malicAcid   ash  alcalinityOfAsh  magnesium  totalPhenols  \\\n",
       "0        1      14.23  1.71             2.43       15.6           127   \n",
       "1        1      13.20  1.78             2.14       11.2           100   \n",
       "2        1      13.16  2.36             2.67       18.6           101   \n",
       "3        1      14.37  1.95             2.50       16.8           113   \n",
       "4        1      13.24  2.59             2.87       21.0           118   \n",
       "\n",
       "   flavanoids  nonfalavanoidPhenols  proanthyocyanins  colorIntensity   hue  \\\n",
       "0        2.80                  3.06              0.28            2.29  5.64   \n",
       "1        2.65                  2.76              0.26            1.28  4.38   \n",
       "2        2.80                  3.24              0.30            2.81  5.68   \n",
       "3        3.85                  3.49              0.24            2.18  7.80   \n",
       "4        2.80                  2.69              0.39            1.82  4.32   \n",
       "\n",
       "   od315ofDilutedWines  proline  some  \n",
       "0                 1.04     3.92  1065  \n",
       "1                 1.05     3.40  1050  \n",
       "2                 1.03     3.17  1185  \n",
       "3                 0.86     3.45  1480  \n",
       "4                 1.04     2.93   735  "
      ]
     },
     "execution_count": 4,
     "metadata": {},
     "output_type": "execute_result"
    }
   ],
   "source": [
    "df = pd.read_csv(\"wine.csv\")\n",
    "df.head()"
   ]
  },
  {
   "cell_type": "code",
   "execution_count": 5,
   "id": "42ecc52c-e1fb-4965-a00b-8f67e38a8fc8",
   "metadata": {},
   "outputs": [
    {
     "name": "stdout",
     "output_type": "stream",
     "text": [
      "<class 'pandas.core.frame.DataFrame'>\n",
      "RangeIndex: 178 entries, 0 to 177\n",
      "Data columns (total 14 columns):\n",
      " #   Column                Non-Null Count  Dtype  \n",
      "---  ------                --------------  -----  \n",
      " 0   alcohol               178 non-null    int64  \n",
      " 1   malicAcid             178 non-null    float64\n",
      " 2   ash                   178 non-null    float64\n",
      " 3   alcalinityOfAsh       178 non-null    float64\n",
      " 4   magnesium             178 non-null    float64\n",
      " 5   totalPhenols          178 non-null    int64  \n",
      " 6   flavanoids            178 non-null    float64\n",
      " 7   nonfalavanoidPhenols  178 non-null    float64\n",
      " 8   proanthyocyanins      178 non-null    float64\n",
      " 9   colorIntensity        178 non-null    float64\n",
      " 10  hue                   178 non-null    float64\n",
      " 11  od315ofDilutedWines   178 non-null    float64\n",
      " 12  proline               178 non-null    float64\n",
      " 13  some                  178 non-null    int64  \n",
      "dtypes: float64(11), int64(3)\n",
      "memory usage: 19.6 KB\n"
     ]
    }
   ],
   "source": [
    "df.info()"
   ]
  },
  {
   "cell_type": "code",
   "execution_count": 6,
   "id": "d4fcb37d-8896-4229-aba5-b7c94ad291ff",
   "metadata": {},
   "outputs": [
    {
     "data": {
      "text/html": [
       "<div>\n",
       "<style scoped>\n",
       "    .dataframe tbody tr th:only-of-type {\n",
       "        vertical-align: middle;\n",
       "    }\n",
       "\n",
       "    .dataframe tbody tr th {\n",
       "        vertical-align: top;\n",
       "    }\n",
       "\n",
       "    .dataframe thead th {\n",
       "        text-align: right;\n",
       "    }\n",
       "</style>\n",
       "<table border=\"1\" class=\"dataframe\">\n",
       "  <thead>\n",
       "    <tr style=\"text-align: right;\">\n",
       "      <th></th>\n",
       "      <th>alcohol</th>\n",
       "      <th>malicAcid</th>\n",
       "      <th>ash</th>\n",
       "      <th>alcalinityOfAsh</th>\n",
       "      <th>magnesium</th>\n",
       "      <th>totalPhenols</th>\n",
       "      <th>flavanoids</th>\n",
       "      <th>nonfalavanoidPhenols</th>\n",
       "      <th>proanthyocyanins</th>\n",
       "      <th>colorIntensity</th>\n",
       "      <th>hue</th>\n",
       "      <th>od315ofDilutedWines</th>\n",
       "      <th>proline</th>\n",
       "      <th>some</th>\n",
       "    </tr>\n",
       "  </thead>\n",
       "  <tbody>\n",
       "    <tr>\n",
       "      <th>count</th>\n",
       "      <td>178.000000</td>\n",
       "      <td>178.000000</td>\n",
       "      <td>178.000000</td>\n",
       "      <td>178.000000</td>\n",
       "      <td>178.000000</td>\n",
       "      <td>178.000000</td>\n",
       "      <td>178.000000</td>\n",
       "      <td>178.000000</td>\n",
       "      <td>178.000000</td>\n",
       "      <td>178.000000</td>\n",
       "      <td>178.000000</td>\n",
       "      <td>178.000000</td>\n",
       "      <td>178.000000</td>\n",
       "      <td>178.000000</td>\n",
       "    </tr>\n",
       "    <tr>\n",
       "      <th>mean</th>\n",
       "      <td>1.938202</td>\n",
       "      <td>13.000618</td>\n",
       "      <td>2.336348</td>\n",
       "      <td>2.366517</td>\n",
       "      <td>19.494944</td>\n",
       "      <td>99.741573</td>\n",
       "      <td>2.295112</td>\n",
       "      <td>2.029270</td>\n",
       "      <td>0.361854</td>\n",
       "      <td>1.590899</td>\n",
       "      <td>5.058090</td>\n",
       "      <td>0.957449</td>\n",
       "      <td>2.611685</td>\n",
       "      <td>746.893258</td>\n",
       "    </tr>\n",
       "    <tr>\n",
       "      <th>std</th>\n",
       "      <td>0.775035</td>\n",
       "      <td>0.811827</td>\n",
       "      <td>1.117146</td>\n",
       "      <td>0.274344</td>\n",
       "      <td>3.339564</td>\n",
       "      <td>14.282484</td>\n",
       "      <td>0.625851</td>\n",
       "      <td>0.998859</td>\n",
       "      <td>0.124453</td>\n",
       "      <td>0.572359</td>\n",
       "      <td>2.318286</td>\n",
       "      <td>0.228572</td>\n",
       "      <td>0.709990</td>\n",
       "      <td>314.907474</td>\n",
       "    </tr>\n",
       "    <tr>\n",
       "      <th>min</th>\n",
       "      <td>1.000000</td>\n",
       "      <td>11.030000</td>\n",
       "      <td>0.740000</td>\n",
       "      <td>1.360000</td>\n",
       "      <td>10.600000</td>\n",
       "      <td>70.000000</td>\n",
       "      <td>0.980000</td>\n",
       "      <td>0.340000</td>\n",
       "      <td>0.130000</td>\n",
       "      <td>0.410000</td>\n",
       "      <td>1.280000</td>\n",
       "      <td>0.480000</td>\n",
       "      <td>1.270000</td>\n",
       "      <td>278.000000</td>\n",
       "    </tr>\n",
       "    <tr>\n",
       "      <th>25%</th>\n",
       "      <td>1.000000</td>\n",
       "      <td>12.362500</td>\n",
       "      <td>1.602500</td>\n",
       "      <td>2.210000</td>\n",
       "      <td>17.200000</td>\n",
       "      <td>88.000000</td>\n",
       "      <td>1.742500</td>\n",
       "      <td>1.205000</td>\n",
       "      <td>0.270000</td>\n",
       "      <td>1.250000</td>\n",
       "      <td>3.220000</td>\n",
       "      <td>0.782500</td>\n",
       "      <td>1.937500</td>\n",
       "      <td>500.500000</td>\n",
       "    </tr>\n",
       "    <tr>\n",
       "      <th>50%</th>\n",
       "      <td>2.000000</td>\n",
       "      <td>13.050000</td>\n",
       "      <td>1.865000</td>\n",
       "      <td>2.360000</td>\n",
       "      <td>19.500000</td>\n",
       "      <td>98.000000</td>\n",
       "      <td>2.355000</td>\n",
       "      <td>2.135000</td>\n",
       "      <td>0.340000</td>\n",
       "      <td>1.555000</td>\n",
       "      <td>4.690000</td>\n",
       "      <td>0.965000</td>\n",
       "      <td>2.780000</td>\n",
       "      <td>673.500000</td>\n",
       "    </tr>\n",
       "    <tr>\n",
       "      <th>75%</th>\n",
       "      <td>3.000000</td>\n",
       "      <td>13.677500</td>\n",
       "      <td>3.082500</td>\n",
       "      <td>2.557500</td>\n",
       "      <td>21.500000</td>\n",
       "      <td>107.000000</td>\n",
       "      <td>2.800000</td>\n",
       "      <td>2.875000</td>\n",
       "      <td>0.437500</td>\n",
       "      <td>1.950000</td>\n",
       "      <td>6.200000</td>\n",
       "      <td>1.120000</td>\n",
       "      <td>3.170000</td>\n",
       "      <td>985.000000</td>\n",
       "    </tr>\n",
       "    <tr>\n",
       "      <th>max</th>\n",
       "      <td>3.000000</td>\n",
       "      <td>14.830000</td>\n",
       "      <td>5.800000</td>\n",
       "      <td>3.230000</td>\n",
       "      <td>30.000000</td>\n",
       "      <td>162.000000</td>\n",
       "      <td>3.880000</td>\n",
       "      <td>5.080000</td>\n",
       "      <td>0.660000</td>\n",
       "      <td>3.580000</td>\n",
       "      <td>13.000000</td>\n",
       "      <td>1.710000</td>\n",
       "      <td>4.000000</td>\n",
       "      <td>1680.000000</td>\n",
       "    </tr>\n",
       "  </tbody>\n",
       "</table>\n",
       "</div>"
      ],
      "text/plain": [
       "          alcohol   malicAcid         ash  alcalinityOfAsh   magnesium  \\\n",
       "count  178.000000  178.000000  178.000000       178.000000  178.000000   \n",
       "mean     1.938202   13.000618    2.336348         2.366517   19.494944   \n",
       "std      0.775035    0.811827    1.117146         0.274344    3.339564   \n",
       "min      1.000000   11.030000    0.740000         1.360000   10.600000   \n",
       "25%      1.000000   12.362500    1.602500         2.210000   17.200000   \n",
       "50%      2.000000   13.050000    1.865000         2.360000   19.500000   \n",
       "75%      3.000000   13.677500    3.082500         2.557500   21.500000   \n",
       "max      3.000000   14.830000    5.800000         3.230000   30.000000   \n",
       "\n",
       "       totalPhenols  flavanoids  nonfalavanoidPhenols  proanthyocyanins  \\\n",
       "count    178.000000  178.000000            178.000000        178.000000   \n",
       "mean      99.741573    2.295112              2.029270          0.361854   \n",
       "std       14.282484    0.625851              0.998859          0.124453   \n",
       "min       70.000000    0.980000              0.340000          0.130000   \n",
       "25%       88.000000    1.742500              1.205000          0.270000   \n",
       "50%       98.000000    2.355000              2.135000          0.340000   \n",
       "75%      107.000000    2.800000              2.875000          0.437500   \n",
       "max      162.000000    3.880000              5.080000          0.660000   \n",
       "\n",
       "       colorIntensity         hue  od315ofDilutedWines     proline  \\\n",
       "count      178.000000  178.000000           178.000000  178.000000   \n",
       "mean         1.590899    5.058090             0.957449    2.611685   \n",
       "std          0.572359    2.318286             0.228572    0.709990   \n",
       "min          0.410000    1.280000             0.480000    1.270000   \n",
       "25%          1.250000    3.220000             0.782500    1.937500   \n",
       "50%          1.555000    4.690000             0.965000    2.780000   \n",
       "75%          1.950000    6.200000             1.120000    3.170000   \n",
       "max          3.580000   13.000000             1.710000    4.000000   \n",
       "\n",
       "              some  \n",
       "count   178.000000  \n",
       "mean    746.893258  \n",
       "std     314.907474  \n",
       "min     278.000000  \n",
       "25%     500.500000  \n",
       "50%     673.500000  \n",
       "75%     985.000000  \n",
       "max    1680.000000  "
      ]
     },
     "execution_count": 6,
     "metadata": {},
     "output_type": "execute_result"
    }
   ],
   "source": [
    "df.describe()"
   ]
  },
  {
   "cell_type": "code",
   "execution_count": 7,
   "id": "f574bcda-ae98-4406-894c-d7de3b34bf29",
   "metadata": {},
   "outputs": [
    {
     "data": {
      "text/plain": [
       "13.05    6\n",
       "12.37    6\n",
       "12.08    5\n",
       "12.29    4\n",
       "12.42    3\n",
       "Name: malicAcid, dtype: int64"
      ]
     },
     "execution_count": 7,
     "metadata": {},
     "output_type": "execute_result"
    }
   ],
   "source": [
    "df['malicAcid'].value_counts().head()"
   ]
  },
  {
   "cell_type": "code",
   "execution_count": 9,
   "id": "ce2637f5-3672-492c-a489-f82a08c11291",
   "metadata": {},
   "outputs": [
    {
     "data": {
      "text/plain": [
       "1.73    7\n",
       "1.67    4\n",
       "1.81    4\n",
       "1.68    3\n",
       "1.61    3\n",
       "Name: ash, dtype: int64"
      ]
     },
     "execution_count": 9,
     "metadata": {},
     "output_type": "execute_result"
    }
   ],
   "source": [
    "df['ash'].value_counts().head()"
   ]
  },
  {
   "cell_type": "code",
   "execution_count": 41,
   "id": "fb5a3403-4a4c-47c4-8e1f-63201b669a7c",
   "metadata": {},
   "outputs": [
    {
     "data": {
      "text/plain": [
       "alcohol                   2.000\n",
       "malicAcid                13.050\n",
       "ash                       1.865\n",
       "alcalinityOfAsh           2.360\n",
       "magnesium                19.500\n",
       "totalPhenols             98.000\n",
       "flavanoids                2.355\n",
       "nonfalavanoidPhenols      2.135\n",
       "proanthyocyanins          0.340\n",
       "colorIntensity            1.555\n",
       "hue                       4.690\n",
       "od315ofDilutedWines       0.965\n",
       "proline                   2.780\n",
       "some                    673.500\n",
       "dtype: float64"
      ]
     },
     "execution_count": 41,
     "metadata": {},
     "output_type": "execute_result"
    }
   ],
   "source": [
    "df.median()"
   ]
  },
  {
   "cell_type": "code",
   "execution_count": 42,
   "id": "bca49d85-fd35-4f9e-a803-99dd0d59f8a3",
   "metadata": {},
   "outputs": [
    {
     "data": {
      "text/html": [
       "<div>\n",
       "<style scoped>\n",
       "    .dataframe tbody tr th:only-of-type {\n",
       "        vertical-align: middle;\n",
       "    }\n",
       "\n",
       "    .dataframe tbody tr th {\n",
       "        vertical-align: top;\n",
       "    }\n",
       "\n",
       "    .dataframe thead th {\n",
       "        text-align: right;\n",
       "    }\n",
       "</style>\n",
       "<table border=\"1\" class=\"dataframe\">\n",
       "  <thead>\n",
       "    <tr style=\"text-align: right;\">\n",
       "      <th></th>\n",
       "      <th>alcohol</th>\n",
       "      <th>malicAcid</th>\n",
       "      <th>ash</th>\n",
       "      <th>alcalinityOfAsh</th>\n",
       "      <th>magnesium</th>\n",
       "      <th>totalPhenols</th>\n",
       "      <th>flavanoids</th>\n",
       "      <th>nonfalavanoidPhenols</th>\n",
       "      <th>proanthyocyanins</th>\n",
       "      <th>colorIntensity</th>\n",
       "      <th>hue</th>\n",
       "      <th>od315ofDilutedWines</th>\n",
       "      <th>proline</th>\n",
       "      <th>some</th>\n",
       "    </tr>\n",
       "  </thead>\n",
       "  <tbody>\n",
       "    <tr>\n",
       "      <th>0</th>\n",
       "      <td>2.0</td>\n",
       "      <td>12.37</td>\n",
       "      <td>1.73</td>\n",
       "      <td>2.28</td>\n",
       "      <td>20.0</td>\n",
       "      <td>88.0</td>\n",
       "      <td>2.2</td>\n",
       "      <td>2.65</td>\n",
       "      <td>0.26</td>\n",
       "      <td>1.35</td>\n",
       "      <td>2.6</td>\n",
       "      <td>1.04</td>\n",
       "      <td>2.87</td>\n",
       "      <td>520.0</td>\n",
       "    </tr>\n",
       "    <tr>\n",
       "      <th>1</th>\n",
       "      <td>NaN</td>\n",
       "      <td>13.05</td>\n",
       "      <td>NaN</td>\n",
       "      <td>2.30</td>\n",
       "      <td>NaN</td>\n",
       "      <td>NaN</td>\n",
       "      <td>NaN</td>\n",
       "      <td>NaN</td>\n",
       "      <td>0.43</td>\n",
       "      <td>NaN</td>\n",
       "      <td>3.8</td>\n",
       "      <td>NaN</td>\n",
       "      <td>NaN</td>\n",
       "      <td>680.0</td>\n",
       "    </tr>\n",
       "    <tr>\n",
       "      <th>2</th>\n",
       "      <td>NaN</td>\n",
       "      <td>NaN</td>\n",
       "      <td>NaN</td>\n",
       "      <td>NaN</td>\n",
       "      <td>NaN</td>\n",
       "      <td>NaN</td>\n",
       "      <td>NaN</td>\n",
       "      <td>NaN</td>\n",
       "      <td>NaN</td>\n",
       "      <td>NaN</td>\n",
       "      <td>4.6</td>\n",
       "      <td>NaN</td>\n",
       "      <td>NaN</td>\n",
       "      <td>NaN</td>\n",
       "    </tr>\n",
       "  </tbody>\n",
       "</table>\n",
       "</div>"
      ],
      "text/plain": [
       "   alcohol  malicAcid   ash  alcalinityOfAsh  magnesium  totalPhenols  \\\n",
       "0      2.0      12.37  1.73             2.28       20.0          88.0   \n",
       "1      NaN      13.05   NaN             2.30        NaN           NaN   \n",
       "2      NaN        NaN   NaN              NaN        NaN           NaN   \n",
       "\n",
       "   flavanoids  nonfalavanoidPhenols  proanthyocyanins  colorIntensity  hue  \\\n",
       "0         2.2                  2.65              0.26            1.35  2.6   \n",
       "1         NaN                   NaN              0.43             NaN  3.8   \n",
       "2         NaN                   NaN               NaN             NaN  4.6   \n",
       "\n",
       "   od315ofDilutedWines  proline   some  \n",
       "0                 1.04     2.87  520.0  \n",
       "1                  NaN      NaN  680.0  \n",
       "2                  NaN      NaN    NaN  "
      ]
     },
     "execution_count": 42,
     "metadata": {},
     "output_type": "execute_result"
    }
   ],
   "source": [
    "df.mode()"
   ]
  },
  {
   "cell_type": "code",
   "execution_count": 43,
   "id": "8004ac86-ffe4-4973-a215-4b8a35709b29",
   "metadata": {},
   "outputs": [
    {
     "data": {
      "text/plain": [
       "alcohol                 0.107431\n",
       "malicAcid              -0.051482\n",
       "ash                     1.039651\n",
       "alcalinityOfAsh        -0.176699\n",
       "magnesium               0.213047\n",
       "totalPhenols            1.098191\n",
       "flavanoids              0.086639\n",
       "nonfalavanoidPhenols    0.025344\n",
       "proanthyocyanins        0.450151\n",
       "colorIntensity          0.517137\n",
       "hue                     0.868585\n",
       "od315ofDilutedWines     0.021091\n",
       "proline                -0.307285\n",
       "some                    0.767822\n",
       "dtype: float64"
      ]
     },
     "execution_count": 43,
     "metadata": {},
     "output_type": "execute_result"
    }
   ],
   "source": [
    "df.skew()"
   ]
  },
  {
   "cell_type": "code",
   "execution_count": 44,
   "id": "54403d62-bc3b-4be7-9d1f-39d936e69809",
   "metadata": {},
   "outputs": [
    {
     "data": {
      "text/plain": [
       "alcohol                -1.322787\n",
       "malicAcid              -0.852500\n",
       "ash                     0.299207\n",
       "alcalinityOfAsh         1.143978\n",
       "magnesium               0.487942\n",
       "totalPhenols            2.104991\n",
       "flavanoids             -0.835627\n",
       "nonfalavanoidPhenols   -0.880382\n",
       "proanthyocyanins       -0.637191\n",
       "colorIntensity          0.554649\n",
       "hue                     0.381522\n",
       "od315ofDilutedWines    -0.344096\n",
       "proline                -1.086435\n",
       "some                   -0.248403\n",
       "dtype: float64"
      ]
     },
     "execution_count": 44,
     "metadata": {},
     "output_type": "execute_result"
    }
   ],
   "source": [
    "df.kurt()"
   ]
  },
  {
   "cell_type": "code",
   "execution_count": 11,
   "id": "412a811f-1f6c-4516-b2cb-f2f4e1ec0501",
   "metadata": {},
   "outputs": [],
   "source": [
    "labels = df['alcohol'].value_counts().keys()"
   ]
  },
  {
   "cell_type": "code",
   "execution_count": 12,
   "id": "a33a6388-175c-49a4-b3b4-f350e6c46386",
   "metadata": {},
   "outputs": [
    {
     "data": {
      "text/plain": [
       "Text(0.5, 1.0, 'Proportion of the types of wine')"
      ]
     },
     "execution_count": 12,
     "metadata": {},
     "output_type": "execute_result"
    },
    {
     "data": {
      "image/png": "[encoded data removed]",
      "text/plain": [
       "<Figure size 640x480 with 1 Axes>"
      ]
     },
     "metadata": {},
     "output_type": "display_data"
    }
   ],
   "source": [
    "plt.pie(df['alcohol'].value_counts())\n",
    "plt.legend(labels)\n",
    "plt.title('Proportion of the types of wine')"
   ]
  },
  {
   "cell_type": "code",
   "execution_count": 25,
   "id": "85721b22-e841-4369-a822-de651e74ab82",
   "metadata": {},
   "outputs": [
    {
     "data": {
      "text/plain": [
       "alcohol\n",
       "1    13.744746\n",
       "2    12.278732\n",
       "3    13.153750\n",
       "Name: malicAcid, dtype: float64"
      ]
     },
     "execution_count": 25,
     "metadata": {},
     "output_type": "execute_result"
    }
   ],
   "source": [
    "avg_data = df.groupby('alcohol').mean()\n",
    "avg_data = avg_data['malicAcid']\n",
    "avg_data"
   ]
  },
  {
   "cell_type": "code",
   "execution_count": 37,
   "id": "616af2e9-4674-4082-823b-8199fab435e0",
   "metadata": {},
   "outputs": [
    {
     "data": {
      "text/plain": [
       "Text(0.5, 1.0, 'Quantity of Malic acid in each type of wine')"
      ]
     },
     "execution_count": 37,
     "metadata": {},
     "output_type": "execute_result"
    },
    {
     "data": {
      "image/png": "[encoded data removed]",
      "text/plain": [
       "<Figure size 640x480 with 1 Axes>"
      ]
     },
     "metadata": {},
     "output_type": "display_data"
    }
   ],
   "source": [
    "plt.bar(avg_data.index,avg_data)\n",
    "plt.xticks(avg_data.index, avg_data.index)\n",
    "plt.title('Quantity of Malic acid in each type of wine')"
   ]
  }
 ],
 "metadata": {
  "kernelspec": {
   "display_name": "Python 3 (ipykernel)",
   "language": "python",
   "name": "python3"
  },
  "language_info": {
   "codemirror_mode": {
    "name": "ipython",
    "version": 3
   },
   "file_extension": ".py",
   "mimetype": "text/x-python",
   "name": "python",
   "nbconvert_exporter": "python",
   "pygments_lexer": "ipython3",
   "version": "3.9.16"
  }
 },
 "nbformat": 4,
 "nbformat_minor": 5
}
